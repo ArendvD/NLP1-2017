{
 "cells": [
  {
   "cell_type": "code",
   "execution_count": 1,
   "metadata": {},
   "outputs": [],
   "source": [
    "%matplotlib inline\n",
    "import matplotlib\n",
    "import numpy as np\n",
    "import matplotlib.pyplot as plt"
   ]
  },
  {
   "cell_type": "markdown",
   "metadata": {},
   "source": [
    "For this assignment, we assume the data to be present inside the folder \"data\", which is positioned in the folder \"lab1\".\n",
    "\n",
    "Assignment made by Oscar Ligthart (10557520) and Arend van Dormalen (10615199)"
   ]
  },
  {
   "cell_type": "markdown",
   "metadata": {},
   "source": [
    "# Lab 1: Text Corpora and Language Modelling\n",
    "\n",
    "This lab is meant to help you get familiar with some language data, and use this data to estimate N-gram language models\n",
    "\n",
    "First you will use the **Penn Treebank**, which is a collection of newspaper articles from the newspaper \n",
    "The Wall Street Journal. The idea is to examine the data and notice interesting properties. This will not take more than a few lines of code.\n",
    "\n",
    "Then you will use a corpus consisting of **TedX** talks. This you will use to estimate an **N-gram language model** for different orders of N, and use this this for some tasks.\n",
    "\n",
    "The datasets are on blackboard under course materials. Download the zip and make sure to put the files in the same directory as the notebook.\n",
    "\n",
    "### Rules\n",
    "* The lab exercises should be made in **groups of two people**.\n",
    "\n",
    "* The deadline is **Tuesday 7 nov 16:59**.\n",
    "\n",
    "* The assignment should submitted to **Blackboard** as `.ipynb`. Only **one submission per group**.\n",
    "\n",
    "* The **filename** should be `lab1_lastname1_lastname2.ipynb`, so for example `lab1_Jurafsky_Martin.ipynb`.\n",
    "\n",
    "* The notebook is graded on a scale of **0-10**. The number of points for each question is indicated in parantheses. \n",
    "\n",
    "* The questions marked **optional** are not graded; they are an additional challenge for those interested in going the extra mile. \n",
    "\n",
    "Notes on implementation:\n",
    "\n",
    "* You should **write your code and answers in this iPython Notebook** (see http://ipython.org/notebook.html for reference material). If you have problems, please contact your teaching assistant.\n",
    "\n",
    "* Use only **one cell for code** and **one cell for markdown** answers!    \n",
    "\n",
    "    * Put all code in the cell with the `# YOUR CODE HERE` comment.\n",
    "    \n",
    "    * For theoretical question, put your solution in the YOUR ANSWER HERE cell.\n",
    "    \n",
    "* Test your code and **make sure we can run your notebook**"
   ]
  },
  {
   "cell_type": "markdown",
   "metadata": {},
   "source": [
    "# 1. Penn treebank\n",
    "\n",
    "## Exercise 1.1 (40 points, 5 points per subquestion )\n",
    "\n",
    "You are provided with a corpus containing words with their Part-of-Speech tags (POS-tags for short). The format is\n",
    "**word|POS** (one sentence per line) and the file name is **sec02-22.gold.tagged**. This data is extracted from Sections 02-22 from the Penn Treebank: these sections are most commonly used for training statistical models like POS-taggers and parsers.\n",
    "\n",
    "**[Hint]** **Figure 10.1** in chapter 10 of Jurafsky and Martin (see [here](https://web.stanford.edu/~jurafsky/slp3/10.pdf)) holds a summary of the 45 POS-tags used in the Penn Treebank tagset together with their meaning and some examples. (If you are keen on learning more about the word-classes represented POS-tags and their definitions you can do a litle reading ahead for next week and already have a look at section 10.1 of the same chapter).\n",
    "\n",
    "**[Hint]** the Python library [collections](https://docs.python.org/2/library/collections.html) has an object called `Counter` which will come in handy for this exercise."
   ]
  },
  {
   "cell_type": "markdown",
   "metadata": {},
   "source": [
    " "
   ]
  },
  {
   "cell_type": "markdown",
   "metadata": {},
   "source": [
    "**(a)** How large is the corpus? (i.e. how **many tokens**). And what is the size of the **vocabulary** used in this corpus? \n",
    "\n",
    "Estimate the vocabulary size both by **lowercasing** all the words as well as by leaving the words in their **original orthography**. What is an advantage of lowercasing all the words in your corpus? What is a notable downside? **Give examples.**"
   ]
  },
  {
   "cell_type": "code",
   "execution_count": 2,
   "metadata": {},
   "outputs": [
    {
     "name": "stdout",
     "output_type": "stream",
     "text": [
      "The size of the corpus is: 929552\n",
      "Number of unique words excluding ambuguity is: 51643\n",
      "Number of unique words before lowercasing is: 44210\n",
      "Number of unique words after lowercasing is: 39384\n"
     ]
    }
   ],
   "source": [
    "import os\n",
    "import re\n",
    "from collections import Counter, defaultdict, deque\n",
    "file = \"data/sec02-21.gold.tagged\"\n",
    "f = open(file, \"r\")\n",
    "lines = f.readlines()\n",
    "\n",
    "# Initiate counters\n",
    "cnt_lower = Counter()\n",
    "cnt = Counter()\n",
    "cnt_tuple = Counter()\n",
    "cnt_POS = Counter()\n",
    "\n",
    "# loop through data file\n",
    "for line in lines:\n",
    "    # split sentence into words\n",
    "    tuple_list = line.split(\" \")\n",
    "    for i in tuple_list:\n",
    "        # detach POS tags from words\n",
    "        word = i.split(\"|\")\n",
    "        if len(word) == 2: # filter on \"\\n\", all other have POS tag\n",
    "            # Add words and POS tags into counters\n",
    "            cnt[word[0]] += 1\n",
    "            cnt_lower[word[0].lower()] += 1\n",
    "            cnt_tuple[(word[0],word[1])] += 1\n",
    "            cnt_POS[word[1]] += 1\n",
    "\n",
    "print(\"The size of the corpus is: \" + str(sum(cnt.values())))\n",
    "print(\"Number of unique words excluding ambuguity is: \" + str(len(cnt_tuple)))\n",
    "print(\"Number of unique words before lowercasing is: \" + str(len(cnt)))\n",
    "print(\"Number of unique words after lowercasing is: \" + str(len(cnt_lower)))\n"
   ]
  },
  {
   "cell_type": "markdown",
   "metadata": {},
   "source": [
    "Lowercasing all the words in the corpus has both positive and negative effects.\n",
    "On the positive side, words that are capitalized at the start of a sentence are not considered to be separate words anymore. This will increase accuracy on the corpus, as there are no more duplicate words.\n",
    "Possible downsides to lowercasing everything is losing words that are separated by capitalization, such as acronyms, initials and names. For example: \"IT\" has a very different meaning from the word \"it\"."
   ]
  },
  {
   "cell_type": "markdown",
   "metadata": {},
   "source": [
    "------\n",
    "For the rest of this exercise you should use the **original orthography** of the data when answering the questions.\n",
    "\n",
    "------\n"
   ]
  },
  {
   "cell_type": "markdown",
   "metadata": {},
   "source": [
    "**(b)** Plot a graph of word frequency versus rank of a word, in this corpus. Does this corpus obey **Zipf’s law**?"
   ]
  },
  {
   "cell_type": "code",
   "execution_count": 3,
   "metadata": {
    "scrolled": true
   },
   "outputs": [
    {
     "data": {
      "image/png": "[encoded data removed]",
      "text/plain": [
       "<matplotlib.figure.Figure at 0x7ff574754128>"
      ]
     },
     "metadata": {},
     "output_type": "display_data"
    }
   ],
   "source": [
    "# Get counter values for each word to put on the y-axis\n",
    "y = list(cnt.values())\n",
    "y.sort(reverse=True)\n",
    "\n",
    "# Get the amount of words on the x-axis\n",
    "x = np.arange(len(cnt))\n",
    "\n",
    "# Plot the word frequency graph\n",
    "plt.loglog(x, y, '.')\n",
    "plt.ylabel('Word Occurences')\n",
    "plt.xlabel('Number of Words')\n",
    "plt.show()"
   ]
  },
  {
   "cell_type": "markdown",
   "metadata": {},
   "source": [
    "Since the line is straight with both axes being on logarithmic scale, the corpus obeys Zipf's Law."
   ]
  },
  {
   "cell_type": "markdown",
   "metadata": {},
   "source": [
    "**(c)** What are the **20 most common words** in the corpus and how often do they occur? What is the 50th most common word, the 100th and the 1000th and how often do they occur?"
   ]
  },
  {
   "cell_type": "code",
   "execution_count": 4,
   "metadata": {},
   "outputs": [
    {
     "name": "stdout",
     "output_type": "stream",
     "text": [
      "The 20 most common words are: [(',', 48310), ('the', 40839), ('.', 38798), ('of', 22782), ('to', 22056), ('a', 19171), ('and', 15906), ('in', 15085), (\"'s\", 9249), ('that', 7951), ('for', 7912), ('$', 7125), ('is', 6893), ('The', 6791), ('said', 5597), ('on', 5112), ('%', 4871), ('it', 4639), ('by', 4450), ('from', 4437)]\n",
      "The 50th most common word is: ('had', 1755)\n",
      "The 100th most common word is: ('A', 860)\n",
      "The 1000th most common word is: ('subject', 109)\n"
     ]
    }
   ],
   "source": [
    "print(\"The 20 most common words are: \" + str(cnt.most_common(20)))\n",
    "\n",
    "print(\"The 50th most common word is: \" + str(cnt.most_common(50)[-1]))\n",
    "\n",
    "print(\"The 100th most common word is: \" + str(cnt.most_common(100)[-1]))\n",
    "\n",
    "print(\"The 1000th most common word is: \" + str(cnt.most_common(1000)[-1]))\n"
   ]
  },
  {
   "cell_type": "markdown",
   "metadata": {},
   "source": [
    "**(d)** How many different Part-of-speech tags are present in the corpus?"
   ]
  },
  {
   "cell_type": "code",
   "execution_count": 5,
   "metadata": {
    "scrolled": true
   },
   "outputs": [
    {
     "name": "stdout",
     "output_type": "stream",
     "text": [
      "48\n"
     ]
    }
   ],
   "source": [
    "print(len(cnt_POS))\n"
   ]
  },
  {
   "cell_type": "markdown",
   "metadata": {},
   "source": [
    "**(e)** Print a list of the **10 most commonly occurring POS tags** in the data. For each of these POS tags, what are the **3 most common words** that belong to that class?"
   ]
  },
  {
   "cell_type": "code",
   "execution_count": 6,
   "metadata": {},
   "outputs": [
    {
     "name": "stdout",
     "output_type": "stream",
     "text": [
      "The 10 most commonly occurring POS tags are: [('NN', 132134), ('IN', 99413), ('NNP', 90711), ('DT', 82147), ('JJ', 59643), ('NNS', 59332), (',', 48314), ('.', 39252), ('CD', 36148), ('RB', 30232)]\n",
      "The most commonly occuring words for POS tag NN are: [('%', 4866), ('company', 2457), ('year', 2220)]\n",
      "The most commonly occuring words for POS tag IN are: [('of', 22778), ('in', 14852), ('for', 7907)]\n",
      "The most commonly occuring words for POS tag NNP are: [('Mr.', 4147), ('U.S.', 1577), ('Corp.', 1186)]\n",
      "The most commonly occuring words for POS tag DT are: [('the', 40831), ('a', 19151), ('The', 6753)]\n",
      "The most commonly occuring words for POS tag JJ are: [('new', 1396), ('other', 1298), ('last', 990)]\n",
      "The most commonly occuring words for POS tag NNS are: [('years', 1164), ('shares', 1128), ('sales', 939)]\n",
      "The most commonly occuring words for POS tag , are: [(',', 48310), ('2', 1), ('section', 1)]\n",
      "The most commonly occuring words for POS tag . are: [('.', 38798), ('?', 392), ('!', 62)]\n",
      "The most commonly occuring words for POS tag CD are: [('million', 4355), ('billion', 1780), ('one', 1203)]\n",
      "The most commonly occuring words for POS tag RB are: [(\"n't\", 3211), ('also', 1420), ('not', 1287)]\n"
     ]
    }
   ],
   "source": [
    "from collections import defaultdict\n",
    "print(\"The 10 most commonly occurring POS tags are:\", str(cnt_POS.most_common(10)))\n",
    "\n",
    "d = defaultdict(set)\n",
    "\n",
    "# Loop through most common POS tags\n",
    "for i in range(len(cnt_POS.most_common(10))):\n",
    "    # initiate a counter for a particular POS tag\n",
    "    cnt_word_pos = Counter()\n",
    "    \n",
    "    # loop through counter of complete data set\n",
    "    for word, POS in cnt_tuple:\n",
    "        # add the word to the counter when the POS tag corresponds to the word in the dataset\n",
    "        if POS == cnt_POS.most_common(10)[i][0]:\n",
    "            cnt_word_pos[word] += cnt_tuple[word,POS]\n",
    "    \n",
    "    # for every POS tag, print the most occuring words\n",
    "    print('The most commonly occuring words for POS tag ' + cnt_POS.most_common(10)[i][0] + ' are: ' + str(cnt_word_pos.most_common(3)))        \n"
   ]
  },
  {
   "cell_type": "markdown",
   "metadata": {},
   "source": [
    "**(f)** A single word may have several POS-tags. For example, *record* can be a both a **noun** *(buy a record)* or a **verb** *(record a lecture)*. This make POS-tags extremely useful for **disambiguation**.\n",
    "\n",
    "What percentage of the words in the vocabulary is **ambiguous**? (i.e. have more than one POS tag?) What are the 10 most frequent combinations of POS tags in the case of ambitguity? Which words are **most ambiguous**? Give some of them."
   ]
  },
  {
   "cell_type": "code",
   "execution_count": 7,
   "metadata": {
    "scrolled": true
   },
   "outputs": [
    {
     "name": "stdout",
     "output_type": "stream",
     "text": [
      "Percentage of ambiguous words: 13.469803211942999\n",
      "[('down', {'RP', 'JJ', 'RB', 'IN', 'RBR', 'VBP', 'NN'}), ('many', {'NP', 'DT', 'JJ', 'RB', 'PDT', 'VB', 'NN'}), ('open', {'RP', 'JJ', 'RB', 'VBZ', 'VB', 'VBP', 'NN'}), ('set', {'VBD', 'JJ', 'VBZ', 'VB', 'VBN', 'VBP', 'NN'})]\n",
      "[(frozenset({'VBD', 'VBN'}), 772), (frozenset({'NN', 'JJ'}), 662), (frozenset({'NN', 'NNP'}), 549), (frozenset({'VB', 'VBP'}), 375), (frozenset({'VBZ', 'NNS'}), 355), (frozenset({'VB', 'NN'}), 351), (frozenset({'VBG', 'NN'}), 315), (frozenset({'VBD', 'VBN', 'JJ'}), 237), (frozenset({'VB', 'VBP', 'NN'}), 233), (frozenset({'NNP', 'JJ'}), 218)]\n"
     ]
    }
   ],
   "source": [
    "# initiate defaultdict\n",
    "d = defaultdict(set)\n",
    "\n",
    "# fill defaultdict with the different POS tags per word\n",
    "for word, pos in cnt_tuple:\n",
    "    d[word].add(pos)\n",
    "\n",
    "word_posses = list(sorted(d.items()))\n",
    "\n",
    "# initiate list for ambiguous words\n",
    "ambs = []\n",
    "\n",
    "cnt_ambs = Counter()\n",
    "old = 0\n",
    "most_amb = []\n",
    "\n",
    "# loop through the items stored in the defaultdict\n",
    "for i in word_posses: \n",
    "    # if the length of the POS tags is greater than 1, the word is ambiguous\n",
    "    if len(i[1]) > 1:\n",
    "        # add the ambiguous word to list\n",
    "        ambs.append(i)\n",
    "        \n",
    "        # add the combination of POS tags per ambiguous word to a counter\n",
    "        cnt_ambs[frozenset(i[1])] += 1\n",
    "    \n",
    "    # use the amount of POS tags to decide which words are most ambiguous\n",
    "    # longest POS tag equals most ambiguous word\n",
    "    new = len(i[1]) \n",
    "    if new > old:\n",
    "        old = new\n",
    "        most_amb = []\n",
    "    \n",
    "    # add word to list of most ambiguous words if POS tags have same length\n",
    "    if new == old:\n",
    "        most_amb.append(i)\n",
    "        \n",
    "print(\"Percentage of ambiguous words: \"+ str(float(len(ambs))/len(cnt) * 100))\n",
    "print(most_amb)\n",
    "print(cnt_ambs.most_common(10))"
   ]
  },
  {
   "cell_type": "markdown",
   "metadata": {},
   "source": [
    "**(g)**  Print some of these words with their multiple POS-tags. Do you **understand the ambiguity**? Use figure 10.1 mentioned above to interpret the POS-tags."
   ]
  },
  {
   "cell_type": "code",
   "execution_count": 8,
   "metadata": {},
   "outputs": [
    {
     "name": "stdout",
     "output_type": "stream",
     "text": [
      "('police', {'VB', 'NNS', 'NN'}) ('Row', {'NN', 'NNP'})\n"
     ]
    }
   ],
   "source": [
    "print(ambs[4327], ambs[1234])"
   ]
  },
  {
   "cell_type": "markdown",
   "metadata": {},
   "source": [
    "In this example, 'police' has multiple tags. It can be used as a singular noun, to describe a police force for example. It can be used as a plural noun, to describe multiple officers. Also, it can be used as verb 'to police', meaning to keep order.\n",
    "\n",
    "'Row' is both a noun and a proper noun. It is a noun when it describes a row of something and is at the start of a sentence and therefore capitalized. It is a proper noun when it is used as a reference to a unique entity."
   ]
  },
  {
   "cell_type": "markdown",
   "metadata": {},
   "source": [
    "**(h)** Ambiguous words do not account for a great percentage of the vocabulary. Yet they are among the most commonly occuring words of the English language. What **percentage of the dataset is ambiguous**?"
   ]
  },
  {
   "cell_type": "code",
   "execution_count": 9,
   "metadata": {},
   "outputs": [
    {
     "name": "stdout",
     "output_type": "stream",
     "text": [
      "The percentage of ambiguous tokens is: 55.079005800643756\n"
     ]
    }
   ],
   "source": [
    "a = 0\n",
    "# loop through ambiguous words\n",
    "for i in ambs: \n",
    "    # add counts of ambiguous words to variable\n",
    "    a += cnt[i[0]]\n",
    "\n",
    "# divide ambiguous words by total words to get percentage\n",
    "amb = float(a)/sum(cnt.values()) * 100\n",
    "print(\"The percentage of ambiguous tokens is:\", amb)"
   ]
  },
  {
   "cell_type": "markdown",
   "metadata": {},
   "source": [
    "## Exercise 1.2 (10 points, 5 per subquestion)"
   ]
  },
  {
   "cell_type": "markdown",
   "metadata": {},
   "source": [
    "You are also provided with another file called **sec00.gold.tagged**. \n",
    "Section 00 of the Penn Treebank is typically used as development data."
   ]
  },
  {
   "cell_type": "markdown",
   "metadata": {},
   "source": [
    "**(a)** How many **unseen words** are present in the development data (i.e., words that have not occurred in the training data)?"
   ]
  },
  {
   "cell_type": "code",
   "execution_count": 85,
   "metadata": {
    "scrolled": false
   },
   "outputs": [
    {
     "name": "stdout",
     "output_type": "stream",
     "text": [
      "1288\n"
     ]
    },
    {
     "data": {
      "text/plain": [
       "\"\\n# initiate counters for new words\\ncnt_unseen = Counter()\\ncnt_unseen_POS = Counter()\\n\\n# loop through counter of sec00.gold.tagged data\\nfor word2, POS2 in cnt2_tuple:\\n    # initiate a boolean\\n    seen = False\\n    \\n    # loop through counter of previous data set\\n    for word, POS in cnt_tuple:\\n        # set boolean to true if words occur in both datasets\\n        if word == word2:\\n            seen = True\\n    \\n    # add the word to a counter if it is not in both datasets\\n    if not seen:\\n        cnt_unseen[word2] += 1\\n        cnt_unseen_POS[POS2] += 1\\n        \\nprint('There are ' + str(len(cnt_unseen)) + ' unseen words in the text!')\\n\""
      ]
     },
     "execution_count": 85,
     "metadata": {},
     "output_type": "execute_result"
    }
   ],
   "source": [
    "file = \"data/sec00.gold.tagged\"\n",
    "f = open(file, \"r\")\n",
    "lines = f.readlines()\n",
    "\n",
    "# initiate counters\n",
    "cnt2_orig = Counter()\n",
    "cnt2_tuple = Counter()\n",
    "\n",
    "# loop through data\n",
    "for line in lines:\n",
    "    # split sentences into words\n",
    "    tuple_list = line.split(\" \")\n",
    "    \n",
    "    for i in tuple_list:\n",
    "        # detach POS tags from words\n",
    "        word = i.split(\"|\")\n",
    "        if len(word) == 2: # filter on \"\\n\", all other have POS tag\n",
    "            # fill counters\n",
    "            cnt2_orig[word[0]] += 1\n",
    "            cnt2_tuple[(word[0], word[1])] += 1\n",
    "            \n",
    "comb_tuple = cnt2_orig + cnt\n",
    "unseen = len(comb_tuple) - len(cnt)\n",
    "print('There are ' + str(unseen) + ' unseen words in the text!')\n",
    "            \n",
    "'''\n",
    "# initiate counters for new words\n",
    "cnt_unseen = Counter()\n",
    "cnt_unseen_POS = Counter()\n",
    "\n",
    "# loop through counter of sec00.gold.tagged data\n",
    "for word2, POS2 in cnt2_tuple:\n",
    "    # initiate a boolean\n",
    "    seen = False\n",
    "    \n",
    "    # loop through counter of previous data set\n",
    "    for word, POS in cnt_tuple:\n",
    "        # set boolean to true if words occur in both datasets\n",
    "        if word == word2:\n",
    "            seen = True\n",
    "    \n",
    "    # add the word to a counter if it is not in both datasets\n",
    "    if not seen:\n",
    "        cnt_unseen[word2] += 1\n",
    "        cnt_unseen_POS[POS2] += 1\n",
    "        \n",
    "print('There are ' + str(len(cnt_unseen)) + ' unseen words in the text!')\n",
    "'''"
   ]
  },
  {
   "cell_type": "markdown",
   "metadata": {},
   "source": [
    "**(b)** What are the three **POS tag categories** that the most **unseen words** belong to?"
   ]
  },
  {
   "cell_type": "code",
   "execution_count": null,
   "metadata": {
    "scrolled": true
   },
   "outputs": [],
   "source": [
    "print(cnt_unseen_POS.most_common(3))\n"
   ]
  },
  {
   "cell_type": "markdown",
   "metadata": {},
   "source": [
    "# 2. Language Models\n",
    "\n",
    "This part of the lab will be covered in the Wednesday lecture. If you have prior exposure to NLP, go ahead and finish this part! If you don't, start anyway, and this part will be clear after the lecture. \n",
    "\n",
    "Reference **chapter 4** of J&M *Language Modeling with N-Grams*. \n",
    "\n",
    "----------\n",
    "\n",
    "Models that assign **probabilities** to **sequences of words** are called language **language\n",
    "modelels** or **LMs**. The simplest model that assigns probabilities to sentences and sequences of words is the **N-gram** model.\n",
    "\n",
    "Recall that an *N*-gram language model uses **conditional probabilities** of the form\n",
    "    \n",
    "$$P(w_k \\mid w_{k-N+1} \\dots w_{k-1})$$\n",
    "\n",
    "to **approximate** the full **joint probability**\n",
    "\n",
    "$$P(w_1 \\dots w_n)$$\n",
    "\n",
    "of a sequence of words $w_1 \\dots w_n$.\n",
    "\n",
    "The easiest way of obtaining estimates for the probabilities $P(w_k \\mid w_{k-N+1} \\dots w_{k-1})$ is to use the **maximum likelihood estimate** or **MLE**, a widely used statistical estimation method ([read more]((https://en.wikipedia.org/wiki/Maximum_likelihood_estimation)). You count and normalize:\n",
    "\n",
    "$$P_{MLE}(w_k \\mid w_{k-N+1} \\dots w_{k-1}) = \\frac{C(w_{k-N+1} \\dots w_{k-1} w_k)}{C(w_{k-N+1} \\dots w_{k-1})}.$$\n",
    "\n",
    "\n",
    "## Exercise 2.1 (25 points)\n",
    "\n",
    "**(a) ** Complete the function `train_ngram` so that you can train a count-based $N$-gram language model on the data found in `data/ted-train.txt` and train this for $N=2,3,4$. **15 points**\n",
    "\n",
    "**(b) ** Extend the function above so that it accepts a parameter `k` for optional add-$k$ smoothing. **10 points**\n",
    "\n",
    "**[Datastructure hint]** If you store the smoothed language in a naive manner (that is, to store *all* the numbers separately) your datastructure will get huge! If $V$ is the vocabulary then the smoothed bigram model assigns probabilities to $|V|^2$ entries. If $|V|$ is around 80k, the naive way requires you to store more than 64 billion floats. Yet almost all of these are actually just $P(w_n|w_{n-1}) = \\frac{k}{N + k|V|}$, with $k$ the value with which you smooth and $N=C(w_{n-1})$. Think about how you use this fact to make your model work in practice."
   ]
  },
  {
   "cell_type": "markdown",
   "metadata": {},
   "source": [
    "**[Python hint]** The `collections` library has another useful datastructure: the `defaultdict`. Some example uses:"
   ]
  },
  {
   "cell_type": "code",
   "execution_count": null,
   "metadata": {},
   "outputs": [],
   "source": [
    "from collections import defaultdict\n",
    "\n",
    "d = defaultdict(float)\n",
    "d[\"new key\"]"
   ]
  },
  {
   "cell_type": "markdown",
   "metadata": {},
   "source": [
    "Compare that to an ordinary dictionary:"
   ]
  },
  {
   "cell_type": "code",
   "execution_count": null,
   "metadata": {},
   "outputs": [],
   "source": [
    "d = dict()\n",
    "d[\"new key\"]"
   ]
  },
  {
   "cell_type": "markdown",
   "metadata": {},
   "source": [
    "Other datatypes as `default_factory`:"
   ]
  },
  {
   "cell_type": "code",
   "execution_count": null,
   "metadata": {},
   "outputs": [],
   "source": [
    "d = defaultdict(int)\n",
    "d[\"new key\"]"
   ]
  },
  {
   "cell_type": "code",
   "execution_count": null,
   "metadata": {},
   "outputs": [],
   "source": [
    "d = defaultdict(list)\n",
    "d[\"new key\"]"
   ]
  },
  {
   "cell_type": "markdown",
   "metadata": {},
   "source": [
    "Converting an already existing `dict`:"
   ]
  },
  {
   "cell_type": "code",
   "execution_count": null,
   "metadata": {},
   "outputs": [],
   "source": [
    "d1 = {k: \"value\" for k in range(1, 11)}\n",
    "d = defaultdict(float, d1) # convert it to a defaultdict\n",
    "print(d[5])\n",
    "print(d[100])"
   ]
  },
  {
   "cell_type": "markdown",
   "metadata": {},
   "source": [
    "This doesn't work:"
   ]
  },
  {
   "cell_type": "code",
   "execution_count": null,
   "metadata": {},
   "outputs": [],
   "source": [
    "d = defaultdict(10)"
   ]
  },
  {
   "cell_type": "markdown",
   "metadata": {},
   "source": [
    "Use a `lambda` to make the number `10` `callable`\":"
   ]
  },
  {
   "cell_type": "code",
   "execution_count": null,
   "metadata": {},
   "outputs": [],
   "source": [
    "d = defaultdict(lambda: 10)\n",
    "d[\"new key\"]"
   ]
  },
  {
   "cell_type": "code",
   "execution_count": null,
   "metadata": {},
   "outputs": [],
   "source": [
    "d = defaultdict(lambda: defaultdict(float))\n",
    "d[\"new key\"]"
   ]
  },
  {
   "cell_type": "markdown",
   "metadata": {},
   "source": [
    "Clever use of a `defaultdict` can be the solution to the problem of data-storing in a smoothing $N$-gram pointed out above:\n",
    "    \n",
    "    ngram = defaultdict(lambda: k/(N+kV), ngram)"
   ]
  },
  {
   "cell_type": "markdown",
   "metadata": {},
   "source": [
    "The following function is given:"
   ]
  },
  {
   "cell_type": "code",
   "execution_count": 11,
   "metadata": {},
   "outputs": [],
   "source": [
    "train_file = \"data/ted-train.txt\" # changed for data in folder that is excluded for GitHub\n",
    "\n",
    "def read(fname, max_lines=np.inf):\n",
    "    \"\"\"\n",
    "    Reads in the data in fname and returns it as\n",
    "    one long list of words. Also returns a vocabulary in\n",
    "    the form of a word2index and index2word dictionary.\n",
    "    \"\"\"\n",
    "    data = []\n",
    "    # w2i will automatically keep a counter to asign to new words\n",
    "    w2i = defaultdict(lambda: len(w2i))\n",
    "    i2w = dict()\n",
    "    start = \"<s>\"\n",
    "    end = \"</s>\"\n",
    "    \n",
    "    with open(fname, \"r\") as fh:\n",
    "        for k, line in enumerate(fh):\n",
    "            if k > max_lines:\n",
    "                break\n",
    "            words = line.strip().split()\n",
    "            # assign an index to each word\n",
    "            for w in words:\n",
    "                i2w[w2i[w]] = w # trick\n",
    "            \n",
    "            sent = [start] + words + [end]\n",
    "            data.append(sent)\n",
    "\n",
    "    return data, w2i, i2w"
   ]
  },
  {
   "cell_type": "code",
   "execution_count": 12,
   "metadata": {},
   "outputs": [],
   "source": [
    "def train_ngram(data, N, k=0):\n",
    "    \"\"\"\n",
    "    Trains an n-gram language model with optional add-k smoothing\n",
    "    and additionaly returns the unigram model\n",
    "    \n",
    "    :param data: text-data as returned by read\n",
    "    :param N: (N>1) the order of the ngram e.g. N=2 gives a bigram\n",
    "    :param k: optional add-k smoothing\n",
    "    :returns: ngram and unigram\n",
    "    \"\"\"\n",
    "    ngram = defaultdict(Counter) # ngram[history][word] = #(history,word)\n",
    "    unpacked_data = [word for sent in data for word in sent] # default prob is 0.0\n",
    "    unigram = defaultdict(float, Counter(unpacked_data))\n",
    "    \n",
    "    n = len(unpacked_data)\n",
    "    V = len(unigram)\n",
    "    \n",
    "    unigram = defaultdict(lambda: k/(n + k * V), unigram)\n",
    "    for key, value in unigram.items():\n",
    "        unigram[key] = float(unigram[key] + k) / (n + k * V)\n",
    "        \n",
    "    # use function deque to keep track of history per word\n",
    "    his = deque(unpacked_data[:N-1], N-1)\n",
    "    \n",
    "    # construct dictionary of histories with next words + counts\n",
    "    for word in unpacked_data[N-1:]:\n",
    "        # do not append the word to ngram if it is a start or stop tag\n",
    "        if word is '<s>' or word is '<\\s>':\n",
    "            continue\n",
    "        ngram[tuple(his)][word] += 1\n",
    "        his.append(word)\n",
    "                \n",
    "   \n",
    "  \n",
    "    for hist in ngram.keys():\n",
    "        n = sum(ngram[hist].values())\n",
    "        for key in ngram[hist].keys():\n",
    "            ngram[hist][key] = float(ngram[hist][key] + k) / (n + k * V)\n",
    "          \n",
    "        ngram[hist] = defaultdict(lambda: k/(n + k*V), ngram[hist])\n",
    "\n",
    "        \n",
    "    \n",
    "    return ngram, unigram"
   ]
  },
  {
   "cell_type": "code",
   "execution_count": 80,
   "metadata": {},
   "outputs": [],
   "source": [
    "data, w2i, i2w = read(train_file)\n",
    "\n",
    "# Unsmoothed models\n",
    "bigram, unigram = train_ngram(data, N=2, k=0)\n",
    "trigram, _ = train_ngram(data, N=3, k=0)\n",
    "\n",
    "# Add-1 models\n",
    "bigram1, unigram1 = train_ngram(data, N=2, k=1)\n",
    "trigram1, _ = train_ngram(data, N=3, k=1)"
   ]
  },
  {
   "cell_type": "markdown",
   "metadata": {},
   "source": [
    "## Exercise 2.2 (5 points)\n",
    "\n",
    "You can use an *N*-gram language model to **generate text**. The higher the order *N* the better your model will be able to catch the long-range dependecies that occur in actual sentences and the better your changes are at generating sensible text. But beware: **sparsity** of language data will quickly cause your model to reproduce entire lines from your training data; in such cases only one $w_k$ was observed for the histories $w_{k-N+1}\\dots w_{k-1}$ in the entire training-set.\n",
    "\n",
    "**Complete** the function `generate_sent`. It takes a language model `lm` and an order `N` and should generate a sentence by **sampling** from the language model.\n",
    "\n",
    "**[Hint]** You can use the method of [inverse transform sampling](https://en.wikipedia.org/wiki/Inverse_transform_sampling) to generate a sample from a **categorical distribution**, $p_1\\dots p_k$ such that $p_i \\geq 0$ and $\\sum_{i=1}^k p_i = 1$, as follows:"
   ]
  },
  {
   "cell_type": "code",
   "execution_count": 14,
   "metadata": {},
   "outputs": [
    {
     "name": "stdout",
     "output_type": "stream",
     "text": [
      "1\n",
      "Counter({1: 519, 2: 197, 0: 187, 3: 97})\n"
     ]
    }
   ],
   "source": [
    "from random import random\n",
    "\n",
    "P = [0.2,0.5,0.2,0.1]\n",
    "\n",
    "def sample(P):\n",
    "    u = random() # uniformly random number between 0 and 1\n",
    "    p = 0\n",
    "    for i, p_i in enumerate(P):\n",
    "        p += p_i\n",
    "        if p > u: \n",
    "            return i # the first i s.t. p1 + ... + pi > u\n",
    "        \n",
    "        \n",
    "print(sample(P))\n",
    "\n",
    "print(Counter([sample(P) for i in range(1000)])) # check to see if the law of large numbers is still true"
   ]
  },
  {
   "cell_type": "markdown",
   "metadata": {},
   "source": [
    "Inverse transform sampling in the words of Jurafsky and Martin:\n",
    "\n",
    "> Imagine all the words of the English language covering the probability space\n",
    "between 0 and 1, each word covering an interval proportional to its frequency. We\n",
    "choose a random value between 0 and 1 and print the word whose interval includes\n",
    "this chosen value.\n",
    "\n",
    "(J&M, section 4.3)"
   ]
  },
  {
   "cell_type": "code",
   "execution_count": 82,
   "metadata": {},
   "outputs": [
    {
     "name": "stdout",
     "output_type": "stream",
     "text": [
      "Also this and certainly turned the input reality that many scientists , where they 're able to be . \n"
     ]
    }
   ],
   "source": [
    "def generate_sent(lm, N):\n",
    "    \n",
    "    ngram, unigram = train_ngram(data, N=N, k=0)\n",
    "    \n",
    "    his = deque( [\"<s>\"] * (N-1), N-1)\n",
    "    word = '<s>'\n",
    "    sentence = ''\n",
    "    it = 0\n",
    "    while word != '</s>':\n",
    "                \n",
    "        words_dict = list(ngram[tuple(his)].values())\n",
    "                \n",
    "        i = sample(words_dict)\n",
    "\n",
    "        words = list(ngram[tuple(his)].keys())\n",
    "        word = words[i]\n",
    "        \n",
    "        if word != '</s>':\n",
    "            sentence += (word + ' ') \n",
    "        \n",
    "        his.append(word)\n",
    "\n",
    "    return sentence\n",
    "               \n",
    "sentence = generate_sent(data, 2)\n",
    "print(sentence)"
   ]
  },
  {
   "cell_type": "markdown",
   "metadata": {},
   "source": [
    "### [Optional]\n",
    "\n",
    "For how many of the histories $w_{k-N+1}\\dots w_{k-1}$ is the number of continuations $w_n$ equal to **one**? Calculate the percentage of such cases for the different orders *N*.\n",
    "\n",
    "And which history has the **most possible continuations**?"
   ]
  },
  {
   "cell_type": "code",
   "execution_count": null,
   "metadata": {},
   "outputs": [],
   "source": [
    "### ANSWER ###"
   ]
  },
  {
   "cell_type": "markdown",
   "metadata": {},
   "source": [
    "## Excercise 2.3 (5 points)\n",
    "\n",
    "Let $V$ denote our vocabulary. Recall that for any $w$ in $V$ `bigram[w]` defines a conditional probability $p(v|w)$ over $v$ in $V$. In the case of an **unsmoothed bigram**, $p(v|w) = 0$ for most $v\\in V$, whereas in the **smoothed bigram** smoothing took care that $p(v|w) \\geq 0$ for *all* $v$.\n",
    "\n",
    "The function `plot_bigram_dist(word, bigram, smoothbigram, k=30)` plots shows $p(v|word)$ for the `k` words $v$. One bar shows the probabilities in `bigram` and one in `smoothbigram`. \n",
    "\n",
    "**(a)** Use this function to plot the distribution for at least two words `w` and answer the questions\n",
    "* What is the effect of smoothing on the bigram distribution of frequent words? \n",
    "* What is the effect in the case of infrequent words?\n",
    "* Explain the difference between the two based on the raw counts of `w` \n",
    "\n",
    "**(b)** Now experiment with $k$ much smaller than 1 (but greater than 0!) \n",
    "* What are the effects?\n",
    "\n",
    "\n",
    "**[Hint]** Remember that add-1 smoothing turns \n",
    "$$P(w_n\\mid w_{n-1}) = \\frac{C(w_{n-1}w_{n})}{C(w_{n-1})}$$\n",
    "into\n",
    "$$P_{add-1}(w_n\\mid w_{n-1}) = \\frac{C(w_{n-1}w_{n}) + 1}{C(w_{n-1}) + |V|}.$$\n",
    "\n",
    "What happens when $C(w_{n-1})$ is relatively big (similiar in of size as $ |V| $)? And what if $C(w_{n-1})$ is small? "
   ]
  },
  {
   "cell_type": "code",
   "execution_count": 20,
   "metadata": {},
   "outputs": [],
   "source": [
    "import pandas as pd\n",
    "import seaborn as sns    \n",
    "\n",
    "def plot_bigram_dist(word, bigram, smoothbigram, k=30):\n",
    "    d = bigram[(word,)]\n",
    "    ds = smoothbigram[(word,)]\n",
    "    \n",
    "    # sort the probabilities\n",
    "    d_sort = sorted(d.items(), reverse=True, key=lambda t: t[1])[0:k]\n",
    "    ds_sort = sorted(ds.items(), reverse=True, key=lambda t: t[1])[0:k]\n",
    "    \n",
    "    _, probs = zip(*d_sort)\n",
    "    smooth_ws, smooth_probs = zip(*ds_sort)\n",
    "    \n",
    "    # make up for the fact that in the unsmoothed case  probs is generally less than k long\n",
    "    probs = probs + (0,) * (k-len(probs)) \n",
    "\n",
    "    w_data = pd.DataFrame({\"w\": smooth_ws * 2,\n",
    "                           \"P({}|w)\".format(word): probs + smooth_probs,\n",
    "                           \"smoothing\": [\"unsmoothed\"]*k + [\"smoothed\"]*k})\n",
    "    \n",
    "    fig, ax = plt.subplots(figsize=(10,10))\n",
    "    plt.xticks(rotation=90)\n",
    "    g = sns.barplot(ax=ax, x=\"w\", y=\"P({}|w)\".format(word), hue=\"smoothing\",\n",
    "                    data=w_data, palette=\"Blues_d\")    "
   ]
  },
  {
   "cell_type": "code",
   "execution_count": 28,
   "metadata": {},
   "outputs": [
    {
     "data": {
      "image/png": "[encoded data removed]",
      "text/plain": [
       "<matplotlib.figure.Figure at 0x7ff5416685f8>"
      ]
     },
     "metadata": {},
     "output_type": "display_data"
    },
    {
     "data": {
      "image/png": "[encoded data removed]",
      "text/plain": [
       "<matplotlib.figure.Figure at 0x7ff546c735f8>"
      ]
     },
     "metadata": {},
     "output_type": "display_data"
    }
   ],
   "source": [
    "data, w2i, i2w = read(train_file)\n",
    "\n",
    "bigram, unigram = train_ngram(data, N=2, k=0)\n",
    "\n",
    "smoothbigram, unigram_smoothed = train_ngram(data, N=2, k=0.1)\n",
    "\n",
    "# Double use of 'k' can be confusing.\n",
    "plot_bigram_dist('the', bigram, smoothbigram, k=30)\n",
    "\n",
    "plot_bigram_dist('North', bigram, smoothbigram, k=30)"
   ]
  },
  {
   "cell_type": "markdown",
   "metadata": {},
   "source": [
    "**(a)** \n",
    "In the case of a common word, the effects of smoothing are small. In the case of an uncommon word, the effects of smoothing are fairly big. This is due to the fact that more probability is assigned to words that have not yet appeared.\n",
    "<br>\n",
    "\n",
    "**(b)** \n",
    "We find that the closer $k$ gets to zero, the bigger the resemblence is with the unsmoothed graph.\n",
    "<br>\n",
    "\n",
    "If $C(w_{n-1})$ is relatively big, the effects of smoothing are relatively small. This makes sense, as it is assumed there is a large enough sample size of this word, meaning there is a low probability for yet unseen combinations of words. <br>\n",
    "If $C(w_{n-1})$ is small, we assume that there is data sparsity. Therefore the effects of smoothing are big, as we assume that unseen combinations of words are still highly possible."
   ]
  },
  {
   "cell_type": "markdown",
   "metadata": {},
   "source": [
    "\n",
    "**Recall** that if we have a sentence $w_1,\\dots,w_n$ we can write\n",
    "\n",
    "$$P(w_1\\dots w_n) = P(w_1)P(w_2|w_1) \\cdots P(w_i|w_1 \\dots w_{n-1}) \\approx P(w_1)P(w_2|w_1)\\cdots P(w_{N-1}|w_1\\dots w_{N-2})\\prod_{i=N}^{n} P(w_i|w_{i-(N-1)}\\dots w_{i-1})$$\n",
    "\n",
    "where in the last step we make an $N$-gram approximation of the full conditionals.\n",
    "\n",
    "For example, in the case of a bigram (N=2), the above expression reduces to\n",
    "\n",
    "$$P(w_1 \\dots w_n)\\approx P(w_1)\\prod_{i=2}^{n} P(w_i| w_{i-1}).$$\n",
    "\n",
    "## Exercise 2.4 (5 points)\n",
    "\n",
    "The following sentences are taken from the **training data**. Use your **unsmoothed unigram**, **bigram**, and **trigram** language model to estimate their **probabilities**:\n",
    "\n",
    "    1. Every day was about creating something new .\n",
    "    2. In this machine , a beam of protons and anti-protons are accelerated to near the speed of light and brought \n",
    "       together in a collision , producing a burst of pure energy .\n",
    "\n",
    "**Repeat** this with the **smoothed (add-1)** versions of the N-grams. What is the effect of smoothing on the probabilities?\n"
   ]
  },
  {
   "cell_type": "code",
   "execution_count": 83,
   "metadata": {},
   "outputs": [],
   "source": [
    "def get_prob(n_gram, N, sentence):\n",
    "    p = 1\n",
    "    \n",
    "    if N == 1:\n",
    "        for word in sentence:\n",
    "            p *= n_gram[word]\n",
    "            \n",
    "        return p\n",
    "    \n",
    "    else:\n",
    "        his = deque([\"<s>\"] * (N-1), N-1)\n",
    "        for word in sentence:\n",
    "            \n",
    "            p *= n_gram[tuple(his)][word]              \n",
    "            his.append(word)\n",
    "            \n",
    "        return p"
   ]
  },
  {
   "cell_type": "code",
   "execution_count": 84,
   "metadata": {},
   "outputs": [
    {
     "name": "stdout",
     "output_type": "stream",
     "text": [
      "3.872294611692821e-24\n",
      "4.667998867880972e-17\n",
      "0.0\n",
      "3.4856732197056274e-24\n",
      "1.7626843091651718e-26\n",
      "0.0\n",
      "1.2243871780824797e-99\n",
      "2.0159953795734388e-72\n",
      "0.0\n",
      "1.877656496985398e-99\n",
      "2.0095422945886214e-116\n",
      "0.0\n"
     ]
    }
   ],
   "source": [
    "sentence1 = ['Every','day','was','about','creating','something','new','.']\n",
    "sentence2 = ['In','this','machine',',','a','beam','of','protons','and','anti-protons',\n",
    "             'are','accelerated','to','near','the','speed','of','light','and','brought',\n",
    "             'together','in','a','collision',',','producing','a','burst','of','pure','energy','.']\n",
    "sentences = [sentence1, sentence2]\n",
    "\n",
    "\n",
    "models = [(unigram,1), (bigram,2), (trigram,3), (unigram1,1), (bigram1,2), (trigram1,3)]\n",
    "\n",
    "for sentence in sentences:\n",
    "    for ngram in models:\n",
    "        prob = get_prob(ngram[0], ngram[1], sentence)\n",
    "        print(prob)"
   ]
  },
  {
   "cell_type": "markdown",
   "metadata": {},
   "source": [
    "After smoothing, we find that the probabilities for these sentences have decreased. This makes sense; since a part of the unsmoothed probabilities has been distributed over unseen combinations of words."
   ]
  },
  {
   "cell_type": "markdown",
   "metadata": {},
   "source": [
    "## Exercise 2.5 (5 points)\n",
    "\n",
    "The above sentences were taken from the training set, hence they will all have probability greater than 0. The big challenge for our language model are of course with sentence that contain unseen N-grams: if such an N-gram occurs our model immediately assigns the sentence probability zero.\n",
    "\n",
    "The following three senteces are taken from the **test set** availlable in the file **ted-test.txt**. What probabilities do your smoothed and unsmoothed language models asign in this case?\n",
    "\n",
    "    1. Because these robots are really safe .\n",
    "    2. We have sheer nothingness on one side , and we have this vision of a reality that encompasses every \n",
    "       conceivable world at the other extreme : the fullest possible reality , nothingness , the simplest possible \n",
    "       reality ."
   ]
  },
  {
   "cell_type": "code",
   "execution_count": 72,
   "metadata": {},
   "outputs": [],
   "source": [
    "sentence1 = ['<s>','Because','these','robots','are','really','safe','.']\n",
    "sentence2 = ['<s>','We','have','sheer','nothingness','on','one','side',',','and','we',\n",
    "             'have','this','vision','of','a','reality','that','encompasses','every','conceivable',\n",
    "             'world','at','the','other','extreme',':','the','fullest','possible','reality',',',\n",
    "             'nothingness',',','the','simplest','possible','reality','.']"
   ]
  },
  {
   "cell_type": "markdown",
   "metadata": {},
   "source": [
    "On sentences from the test set, smoothing will have the opposite effect. Where words and combinations of words that "
   ]
  },
  {
   "cell_type": "markdown",
   "metadata": {},
   "source": [
    "### [Optional]\n",
    "\n",
    "**Optional** What percentage of the sentences in the test set get assigned probability 0 under your smoothed and unsmoothed language models? "
   ]
  },
  {
   "cell_type": "code",
   "execution_count": null,
   "metadata": {},
   "outputs": [],
   "source": [
    "### ANSWER HERE ###"
   ]
  },
  {
   "cell_type": "markdown",
   "metadata": {},
   "source": [
    "## Exercise 2.6 (5 points)\n",
    "\n",
    "**Perplexity** is very frequently used **metric** for evaluating probabilistic models such as language models. The perplexity (sometimes called **PP** for short) of a language model on a sentence is the **inverse probability** of the sentence, **normalized** by the number of words:\n",
    "\n",
    "$$PP(w_1 \\dots w_n) = P(w_1\\dots w_n)^{-\\frac{1}{n}}.$$\n",
    "\n",
    "Here we can again approximate $P(w_1 \\dots w_n)$ with N-gram probabilities, as above.\n",
    "Note: $(x_1\\cdots x_n)^{-\\frac{1}{n}}$ is the **geometric mean** of the numbers $x_1,\\dots,x_n$. It is like the (regular) artithmetic mean, but with **products** instead of **sums**. The geometric mean is a more natural choice in the case of *PP* because behind $P(w_1\\dots w_n)$ is a series of $n$ products ([more here](https://en.wikipedia.org/wiki/Geometric_mean)).\n",
    "\n",
    "\n",
    "\n",
    "Compute the perplexity of the training sentences from excercise 2.1. What big difference between the **probabilities** of the sentences and the **perplexities** of the sentences do you notice?"
   ]
  },
  {
   "cell_type": "code",
   "execution_count": null,
   "metadata": {},
   "outputs": [],
   "source": [
    "### YOUR CODE HERE ###"
   ]
  },
  {
   "cell_type": "markdown",
   "metadata": {},
   "source": [
    "YOUR ANSWER HERE"
   ]
  },
  {
   "cell_type": "markdown",
   "metadata": {},
   "source": [
    "# That's it!\n",
    "\n",
    "Congratulations, you have made it to the end of the tutorial. Here we will recap the gist of this notebook. \n",
    "\n",
    "**Make sure all your cells can be executed and all your answers are there. Then, read on if you're interested!**\n",
    "\n",
    "-----\n",
    "\n",
    "By now you should have a solid feeling for the problem of **sparsity in language data**; there's just never enough data. For the task of language modelling, we saw that sparsity is a serious challenge. \n",
    "\n",
    "It would be great to be able to model $p(w_n|w_1 \\dots w_{n-1})$ for unlimited $n$: the larger $n$ the better our language model should become at capturing the long-range dependencies between words that characterize actual human sentences, and the more probability our model will asign to such sentences as opposed to sentences that are word-soup. But in the N-gram approach, increasing $n$ will quickly kill all generalizing abilities of the model: the model will start to asign probabilities only to sentences it has seen in the training data.\n",
    "\n",
    "So, where to go from here? Here are three directions that we could head in.\n",
    "\n",
    "### Smoothing\n",
    "\n",
    "We have seen one example of smoothing in this lab: add-k smoothing. This is an easy method, both conceptually and implementation-wise. But the results are not great, and the effects it has on the distributions can be extreme.\n",
    "\n",
    "A much more sophisticated method of smoothing is so-called **Kneser-Ney smoothing**. The method is described in detail in section 4.5 of J&M (3rd edition). This is one of the best performing N-gram smoothing methods, and up to a few years ago a popular implementation of it called [KenLM](https://kheafield.com/code/kenlm/) gave state of the art results.\n",
    "\n",
    "### From words to characters\n",
    "\n",
    "In this lab we have considered language modeling as the task of predicting a **word** $w_n$ based on a history of **words** $w_1\\cdots w_n$. What if instead we let our basic units of modelling be **characters**? The task then becomes to model $p(c_k\\mid c_{k-N-1}\\dots c_{k-1})$ where each $c_i$ is now an ASCII character instead of an entire word.\n",
    "\n",
    "Suddenly sparsity of data is no longer a problem! The set of characters to use is tiny (< 100) compared to even a small-sized vocabulary as today. Have a look at this very illustrative notebook written by Yoav Golberg to see such a method in action: [The unreasonable effectiveness of Character-level Language Models](http://nbviewer.jupyter.org/gist/yoavg/d76121dfde2618422139).\n",
    "\n",
    "(So what is the downside?)\n",
    "\n",
    "\n",
    "### Neural language models\n",
    "\n",
    "The above notebook was actually written as a response to this blog post by Andrej Karpathy: [The Unreasonable Effectiveness of Recurrent Neural Networks](http://karpathy.github.io/2015/05/21/rnn-effectiveness/). Go ahead and read it if you haven't already: it is a superb introduction to the topic of Recurrent Neural Networks.\n",
    "\n",
    "Neural language models solve the problem of data sparsity in a different manner. Instead of estimating the probabilities $p(w_k\\mid w_{k-N-1}\\dots w_{k-1})$ by counting occurences in the data, they use a neural network $f_{\\theta}$ parametrized by parameters $\\theta$ to predict this probability. The parameters $\\theta$ are learned through optimization. \n",
    "\n",
    "The simplest approach goes like this: each word in the history $w_{k-N-1}\\dots w_{k-1}$ is embedded separately giving  vectors $e_{k-N-1}\\dots e_{k-1}$ and then concatenated into one long vectors $[e_{k-N-1};\\dots ;e_{k-1}]$. The network then uses this history vector to predict a probability distribution over words $w$ in the vocabulary $V$:\n",
    "\n",
    "$$p(w \\mid w_{k-N-1}\\dots w_{k-1}) = f_{\\theta}([e_{k-N-1};\\dots;e_{k-1}]).$$\n",
    "\n",
    "(In order to produce legitimate probabilities the final layer of such a network will be for example a $softmax$.)\n",
    "\n",
    "This provides a solution to the sparsity problem by having the network let the individual embeddings of the words in the history interact through its non-linear transforamtion. We are letting the network figure out the smoothing itself!\n",
    "\n",
    "RNNs are a clever extension of this idea, where a hidden state vector $h$ is re-used and updated at each step $k$ in order to store the information of the entire history up to step $k-1$. That is, an RNN actually does away with the N-order approximation; it tries to model the full conditional directly! That means that\n",
    "\n",
    "$$p(w \\mid w_1\\dots w_{k-1}) \\approx RNN_{\\theta}([e_{k-1};h_{k-1}])$$\n",
    "\n",
    "where the hidden state $h_{k-1}$ is a compression of the *entire history* $w_1\\dots w_{k-1}$.\n",
    "\n",
    "Another great place to learn about RNNs, their problems, and solutions to those, is on the blog of [Christopher Olah](http://colah.github.io/posts/2015-08-Understanding-LSTMs/). The project on language modelling will involve learning more about these methods. \n",
    "\n",
    "-----------\n",
    "(And now, it's time to read the classic essay by Eugene Wigner that gave both of the posts their title: [The Unreasonable Effectiveness of Mathematics in the Natural Sciences](http://www.dartmouth.edu/~matc/MathDrama/reading/Wigner.html))"
   ]
  }
 ],
 "metadata": {
  "anaconda-cloud": {},
  "kernelspec": {
   "display_name": "Python 3",
   "language": "python",
   "name": "python3"
  },
  "language_info": {
   "codemirror_mode": {
    "name": "ipython",
    "version": 3
   },
   "file_extension": ".py",
   "mimetype": "text/x-python",
   "name": "python",
   "nbconvert_exporter": "python",
   "pygments_lexer": "ipython3",
   "version": "3.5.2"
  }
 },
 "nbformat": 4,
 "nbformat_minor": 1
}
